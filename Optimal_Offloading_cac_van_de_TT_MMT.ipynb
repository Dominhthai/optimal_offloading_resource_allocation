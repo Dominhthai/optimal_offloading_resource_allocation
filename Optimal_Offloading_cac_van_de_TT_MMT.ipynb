{
  "nbformat": 4,
  "nbformat_minor": 0,
  "metadata": {
    "colab": {
      "provenance": [],
      "authorship_tag": "ABX9TyOHnqbp/kFOcsJsrBtLW/Qe",
      "include_colab_link": true
    },
    "kernelspec": {
      "name": "python3",
      "display_name": "Python 3"
    },
    "language_info": {
      "name": "python"
    }
  },
  "cells": [
    {
      "cell_type": "markdown",
      "metadata": {
        "id": "view-in-github",
        "colab_type": "text"
      },
      "source": [
        "<a href=\"https://colab.research.google.com/github/Dominhthai/optimal_offloading_resource_allocation/blob/main/Optimal_Offloading_cac_van_de_TT_MMT.ipynb\" target=\"_parent\"><img src=\"https://colab.research.google.com/assets/colab-badge.svg\" alt=\"Open In Colab\"/></a>"
      ]
    },
    {
      "cell_type": "code",
      "execution_count": null,
      "metadata": {
        "colab": {
          "base_uri": "https://localhost:8080/"
        },
        "id": "rIB90Rlp-WyS",
        "outputId": "cd2ec783-5f00-4899-9019-7b2ad1003afa"
      },
      "outputs": [
        {
          "output_type": "stream",
          "name": "stdout",
          "text": [
            "Cloning into 'MECOptimalOffloading'...\n",
            "remote: Enumerating objects: 72, done.\u001b[K\n",
            "remote: Counting objects: 100% (72/72), done.\u001b[K\n",
            "remote: Compressing objects: 100% (50/50), done.\u001b[K\n",
            "remote: Total 72 (delta 22), reused 59 (delta 15), pack-reused 0 (from 0)\u001b[K\n",
            "Receiving objects: 100% (72/72), 77.61 KiB | 2.98 MiB/s, done.\n",
            "Resolving deltas: 100% (22/22), done.\n"
          ]
        }
      ],
      "source": [
        "!git clone https://github.com/czgdp1807/MECOptimalOffloading.git"
      ]
    },
    {
      "cell_type": "code",
      "source": [
        "%cd /content/MECOptimalOffloading"
      ],
      "metadata": {
        "colab": {
          "base_uri": "https://localhost:8080/"
        },
        "id": "C5HaYT8P-__F",
        "outputId": "e8bfab30-9cf9-44b9-d763-0072c3c4c35b"
      },
      "execution_count": null,
      "outputs": [
        {
          "output_type": "stream",
          "name": "stdout",
          "text": [
            "/content/MECOptimalOffloading\n"
          ]
        }
      ]
    },
    {
      "cell_type": "code",
      "metadata": {
        "colab": {
          "base_uri": "https://localhost:8080/",
          "height": 466
        },
        "id": "4a6f4514",
        "outputId": "0ff6dd81-a596-4dbd-ba03-5a64dd3fb766"
      },
      "source": [
        "import sys\n",
        "sys.path.append('/content/MECOptimalOffloading')\n",
        "\n",
        "# Read the content of the test file\n",
        "test_file_path = '/content/MECOptimalOffloading/mecoptimaloffloading/tests/test_bi_search.py'\n",
        "try:\n",
        "    with open(test_file_path, 'r') as f:\n",
        "        test_script_content = f.read()\n",
        "    # Execute the script content\n",
        "    exec(test_script_content)\n",
        "    print(\"Test script executed successfully.\")\n",
        "except FileNotFoundError:\n",
        "    print(f\"Error: Test file not found at {test_file_path}\")\n",
        "except Exception as e:\n",
        "    print(f\"An error occurred during script execution: {e}\")"
      ],
      "execution_count": null,
      "outputs": [
        {
          "output_type": "stream",
          "name": "stdout",
          "text": [
            "Test script executed successfully.\n"
          ]
        },
        {
          "output_type": "display_data",
          "data": {
            "text/plain": [
              "<Figure size 640x480 with 1 Axes>"
            ],
            "image/png": "[encoded data removed]"
          },
          "metadata": {}
        }
      ]
    },
    {
      "cell_type": "code",
      "source": [
        "import sys\n",
        "sys.path.append('/content/MECOptimalOffloading')\n",
        "\n",
        "# Read the content of the test file\n",
        "test_file_path = '/content/MECOptimalOffloading/mecoptimaloffloading/tests/test_local_search.py'\n",
        "try:\n",
        "    with open(test_file_path, 'r') as f:\n",
        "        test_script_content = f.read()\n",
        "    # Execute the script content\n",
        "    exec(test_script_content)\n",
        "    print(\"Test script executed successfully.\")\n",
        "except FileNotFoundError:\n",
        "    print(f\"Error: Test file not found at {test_file_path}\")\n",
        "except Exception as e:\n",
        "    print(f\"An error occurred during script execution: {e}\")"
      ],
      "metadata": {
        "colab": {
          "base_uri": "https://localhost:8080/"
        },
        "id": "0PToGUYOYkLu",
        "outputId": "bb9de626-e269-4799-e789-4fc929be46c8"
      },
      "execution_count": null,
      "outputs": [
        {
          "output_type": "stream",
          "name": "stdout",
          "text": [
            "0 {1: [0, 0, 1, 0, 1], 2: [0, 0, 1, 1, 0, 1, 1]} 0.693101114605842 1.08572129408666\n",
            "1 {1: [0, 1, 0, 1, 1], 2: [0, 1, 0, 0, 0, 0, 0]} 0.672416232805483 0.723077710743615\n",
            "2 {1: [1, 1, 0, 0, 0], 2: [0, 0, 0, 0, 0, 0, 0]} 0.43618880862988 0.662889445156307\n",
            "3 {1: [1, 1, 0, 1, 1], 2: [1, 1, 1, 0, 1, 1, 1]} 0.43618880862988 0.662889445156307\n",
            "4 {1: [1, 0, 1, 1, 1], 2: [0, 1, 0, 1, 0, 1, 1]} 0.43618880862988 0.662889445156307\n",
            "{1: [0, 1, 0, 1, 0], 2: [1, 0, 1, 0, 0, 1, 1]} 0.43618880862988 0.662889445156307\n",
            "Test script executed successfully.\n"
          ]
        }
      ]
    }
  ]
}